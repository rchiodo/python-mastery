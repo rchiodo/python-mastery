{
 "cells": [
  {
   "cell_type": "code",
   "execution_count": 1,
   "metadata": {},
   "outputs": [
    {
     "name": "stdout",
     "output_type": "stream",
     "text": [
      "['c:\\\\Users\\\\rchiodo\\\\source\\\\learning\\\\python-mastery\\\\Exercises\\\\exercise6', 'C:\\\\Program Files\\\\WindowsApps\\\\PythonSoftwareFoundation.Python.3.11_3.11.1264.0_x64__qbz5n2kfra8p0\\\\python311.zip', 'C:\\\\Program Files\\\\WindowsApps\\\\PythonSoftwareFoundation.Python.3.11_3.11.1264.0_x64__qbz5n2kfra8p0\\\\DLLs', 'C:\\\\Program Files\\\\WindowsApps\\\\PythonSoftwareFoundation.Python.3.11_3.11.1264.0_x64__qbz5n2kfra8p0\\\\Lib', 'C:\\\\Program Files\\\\WindowsApps\\\\PythonSoftwareFoundation.Python.3.11_3.11.1264.0_x64__qbz5n2kfra8p0', 'c:\\\\Users\\\\rchiodo\\\\source\\\\learning\\\\python-mastery\\\\.venv', '', 'c:\\\\Users\\\\rchiodo\\\\source\\\\learning\\\\python-mastery\\\\.venv\\\\Lib\\\\site-packages', 'c:\\\\Users\\\\rchiodo\\\\source\\\\learning\\\\python-mastery\\\\.venv\\\\Lib\\\\site-packages\\\\win32', 'c:\\\\Users\\\\rchiodo\\\\source\\\\learning\\\\python-mastery\\\\.venv\\\\Lib\\\\site-packages\\\\win32\\\\lib', 'c:\\\\Users\\\\rchiodo\\\\source\\\\learning\\\\python-mastery\\\\.venv\\\\Lib\\\\site-packages\\\\Pythonwin', 'C:\\\\Users\\\\rchiodo\\\\source\\\\learning\\\\python-mastery\\\\Exercises']\n"
     ]
    }
   ],
   "source": [
    "import sys\n",
    "import os\n",
    "sys.path.append(os.path.realpath('..'))\n",
    "print(sys.path)"
   ]
  },
  {
   "cell_type": "code",
   "execution_count": 2,
   "metadata": {},
   "outputs": [],
   "source": [
    "from exercise4.pcost import portfolio_cost\n",
    "from exercise5.stock import Stock"
   ]
  },
  {
   "cell_type": "code",
   "execution_count": 3,
   "metadata": {},
   "outputs": [],
   "source": [
    "s = Stock('GOOG', 100, 490.10)"
   ]
  },
  {
   "cell_type": "code",
   "execution_count": null,
   "metadata": {},
   "outputs": [],
   "source": []
  }
 ],
 "metadata": {
  "kernelspec": {
   "display_name": ".venv",
   "language": "python",
   "name": "python3"
  },
  "language_info": {
   "codemirror_mode": {
    "name": "ipython",
    "version": 3
   },
   "file_extension": ".py",
   "mimetype": "text/x-python",
   "name": "python",
   "nbconvert_exporter": "python",
   "pygments_lexer": "ipython3",
   "version": "3.11.4"
  },
  "orig_nbformat": 4
 },
 "nbformat": 4,
 "nbformat_minor": 2
}
