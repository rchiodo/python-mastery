{
 "cells": [
  {
   "cell_type": "code",
   "execution_count": 1,
   "metadata": {},
   "outputs": [
    {
     "name": "stdout",
     "output_type": "stream",
     "text": [
      "577564\n",
      "45352851\n",
      "45363878\n"
     ]
    }
   ],
   "source": [
    "import tracemalloc\n",
    "f = open('../../Data/ctabus.csv')\n",
    "tracemalloc.start()\n",
    "data = f.readlines()\n",
    "print(len(data))\n",
    "current, peak = tracemalloc.get_traced_memory()\n",
    "print(current)\n",
    "print(peak)\n",
    "tracemalloc.stop()"
   ]
  }
 ],
 "metadata": {
  "kernelspec": {
   "display_name": ".venv",
   "language": "python",
   "name": "python3"
  },
  "language_info": {
   "codemirror_mode": {
    "name": "ipython",
    "version": 3
   },
   "file_extension": ".py",
   "mimetype": "text/x-python",
   "name": "python",
   "nbconvert_exporter": "python",
   "pygments_lexer": "ipython3",
   "version": "3.11.4"
  },
  "orig_nbformat": 4
 },
 "nbformat": 4,
 "nbformat_minor": 2
}
