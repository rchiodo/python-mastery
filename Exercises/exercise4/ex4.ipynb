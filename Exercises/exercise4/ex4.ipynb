{
 "cells": [
  {
   "cell_type": "code",
   "execution_count": 1,
   "metadata": {},
   "outputs": [
    {
     "data": {
      "text/plain": [
       "44671.15"
      ]
     },
     "execution_count": 1,
     "metadata": {},
     "output_type": "execute_result"
    }
   ],
   "source": [
    "from pcost import portfolio_cost\n",
    "portfolio_cost('../../Data/portfolio.dat')"
   ]
  },
  {
   "cell_type": "code",
   "execution_count": 2,
   "metadata": {},
   "outputs": [
    {
     "name": "stdout",
     "output_type": "stream",
     "text": [
      "Couldn't parse: 'C - 53.08'\n",
      "Reason: invalid literal for int() with base 10: '-'\n",
      "Couldn't parse: 'DIS - N/A'\n",
      "Reason: invalid literal for int() with base 10: '-'\n",
      "Couldn't parse: 'GE - 37.23'\n",
      "Reason: invalid literal for int() with base 10: '-'\n",
      "Couldn't parse: 'INTC - 21.84'\n",
      "Reason: invalid literal for int() with base 10: '-'\n",
      "Couldn't parse: 'MCD - 51.11'\n",
      "Reason: invalid literal for int() with base 10: '-'\n",
      "Couldn't parse: 'MO - 70.09'\n",
      "Reason: invalid literal for int() with base 10: '-'\n",
      "Couldn't parse: 'PFE - 26.40'\n",
      "Reason: invalid literal for int() with base 10: '-'\n",
      "Couldn't parse: 'VZ - 42.92'\n",
      "Reason: invalid literal for int() with base 10: '-'\n"
     ]
    },
    {
     "data": {
      "text/plain": [
       "12597.479999999998"
      ]
     },
     "execution_count": 2,
     "metadata": {},
     "output_type": "execute_result"
    }
   ],
   "source": [
    "portfolio_cost('../../Data/portfolio3.dat')"
   ]
  }
 ],
 "metadata": {
  "kernelspec": {
   "display_name": ".venv",
   "language": "python",
   "name": "python3"
  },
  "language_info": {
   "codemirror_mode": {
    "name": "ipython",
    "version": 3
   },
   "file_extension": ".py",
   "mimetype": "text/x-python",
   "name": "python",
   "nbconvert_exporter": "python",
   "pygments_lexer": "ipython3",
   "version": "3.11.4"
  },
  "orig_nbformat": 4
 },
 "nbformat": 4,
 "nbformat_minor": 2
}
